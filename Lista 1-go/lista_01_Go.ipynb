{
  "nbformat": 4,
  "nbformat_minor": 0,
  "metadata": {
    "colab": {
      "provenance": []
    },
    "kernelspec": {
      "name": "python3",
      "display_name": "Python 3"
    },
    "language_info": {
      "name": "python"
    }
  },
  "cells": [
    {
      "cell_type": "markdown",
      "source": [
        "QUESTÃO 1\n",
        "\n",
        "package main\n",
        "\n",
        "import \"fmt\"\n",
        "\n",
        "func main() {\n",
        "  var n1, n2,n3 float64\n",
        "  fmt.Println(\"Digite a primeira nota:\")\n",
        "  fmt.Scanf(\"%f\", &n1)\n",
        "  fmt.Println(\"Digite a segunda nota:\")\n",
        "  fmt.Scanf(\"%f\", &n2)\n",
        "  fmt.Println(\"Digite a terceira nota:\")\n",
        "  fmt.Scanf(\"%f\", &n3)\n",
        "  \n",
        "  m := (n1 + n2 + n3) / 3\n",
        "  fmt.Printf(\"A sua média é: %.2f\\n\", m)\n",
        "   if m >= 6.00{\n",
        "     fmt.Println(\"APROVADO\")\n",
        " } else {\n",
        "     fmt.Println(\"REPROVADO\")\n",
        " }\n",
        "}"
      ],
      "metadata": {
        "id": "NT3ujXJVnM8n"
      }
    },
    {
      "cell_type": "markdown",
      "source": [
        "QUESTÃO 2\n",
        "\n",
        "package main\n",
        "\n",
        "import \"fmt\"\n",
        "\n",
        "func main() {\n",
        "  var J,TI,PP,PG,PA,PC float64\n",
        "  fmt.Println(\"Digite o número de jogos: \")\n",
        "  fmt.Scanf(\"%f\", &J)\n",
        "  N := 0.00\n",
        "  RT := 0.00\n",
        "  for N < J {\n",
        "      fmt.Println(\"Digite o total de ingressos: \")\n",
        "      fmt.Scanf(\"%f\", &TI)\n",
        "      fmt.Println(\"Digite a percentagem de ingressos da categoria popular: \")\n",
        "      fmt.Scanf(\"%f\", &PP)\n",
        "      fmt.Println(\"Digite a percentagem de ingressos da categoria geral: \")\n",
        "      fmt.Scanf(\"%f\", &PG)\n",
        "      fmt.Println(\"Digite a percentagem de ingressos da categoria arquibancada: \")\n",
        "      fmt.Scanf(\"%f\", &PA)\n",
        "      fmt.Println(\"Digite a percentagem de ingressos da categoria cadeira: \")\n",
        "      fmt.Scanf(\"%f\", &PC)\n",
        "      RT = (TI * PP * 1.00)/100 + (TI * PG * 5.00)/100 + (TI * PA * 10.00)/100 + (TI * PC * 20.00)/100\n",
        "      fmt.Printf(\"A renda do jogo %.1f é = %.2f\\n\", N+1, RT)\n",
        "      N++\n",
        "  }\n",
        "}"
      ],
      "metadata": {
        "id": "4IoK51KdnTiH"
      }
    },
    {
      "cell_type": "markdown",
      "source": [
        "QUESTÃO 3\n",
        "\n",
        "package main\n",
        "\n",
        "import \"fmt\"\n",
        "\n",
        "func main() {\n",
        "  var N1, N2, N3, resultado uint8\n",
        "  fmt.Println(\"Digite um número:\")\n",
        "  fmt.Scanf(\"%d\", &N1)\n",
        "  fmt.Println(\"Digite outro número:\")\n",
        "  fmt.Scanf(\"%d\", &N2)  \n",
        "  fmt.Println(\"Digite outro número:\")\n",
        "  fmt.Scanf(\"%d\", &N3)\n",
        "  var quadrado uint32\n",
        " if  N1 > 0 && N1 < 10 && N2 >= 0 && N2 < 10 && N3 >= 0 && N3 < 10  {\n",
        "  resultado = N1 * 100 + N2 * 10 + N3\n",
        "  quadrado = uint32(resultado) * uint32(resultado)\n",
        "  fmt.Printf(\"A composição desses números é %d e seu quadrado é %d\", resultado, quadrado)\n",
        " } else {\n",
        "    fmt.Println(\"DIGITO INVÁLIDO\")\n",
        " }\n",
        "    \n",
        "}"
      ],
      "metadata": {
        "id": "rcxyr5jn7nn0"
      }
    },
    {
      "cell_type": "markdown",
      "source": [
        "QUESTÃO 4\n",
        "\n",
        "package main\n",
        "\n",
        "import \"fmt\"\n",
        "\n",
        "func main() {\n",
        "  var KW, SM float64\n",
        "  fmt.Println(\"Digite o valor do salário mínimo:\")\n",
        "  fmt.Scanf(\"%f\", &SM)\n",
        "  fmt.Println(\"Digite o gasto de KW:\")\n",
        "  fmt.Scanf(\"%f\", &KW)\n",
        "  custoKW := (0.007) * float64(SM)\n",
        "  consumo := float64(KW) * float64(custoKW)\n",
        "  consumodesc := float64(consumo) * 9 / 10\n",
        "  fmt.Printf(\"Custo por KW: %.2f\\n\", custoKW)\n",
        "  fmt.Printf(\"Consumo: %.2f\\n\", consumo)\n",
        "  fmt.Printf(\"Consumo com desconto: %.2f\\n\", consumodesc)\n",
        "  \n",
        "}\n"
      ],
      "metadata": {
        "id": "OuGmCTV4Vn3C"
      }
    },
    {
      "cell_type": "markdown",
      "source": [
        "QUESTÃO 5\n",
        "\n",
        "package main\n",
        "\n",
        "import \"fmt\"\n",
        "\n",
        "func main() {\n",
        "  var MC float64\n",
        "  var CO uint32\n",
        "  var TC string\n",
        "  fmt.Println(\"Qual o número da conta?\")\n",
        "  fmt.Scanf(\"%d\", &CO)\n",
        "  fmt.Println(\"Qual foi o consumo em metros cúbicos?\")\n",
        "  fmt.Scanf(\"%f\", &MC)\n",
        "  fmt.Println(\"Qual o tipo de consumidor?('c'-COMERCIAL,'i'-INDUSTRIAL ou 'r'-RESIDENCIA)\")\n",
        "  fmt.Scanf(\"%s\", &TC)\n",
        "  \n",
        "if TC == \"c\" {\n",
        "    valorCO := MC*0.05 + 5\n",
        "    fmt.Printf(\"CONTA:%d\\n\", CO)\n",
        "    fmt.Printf(\"VALOR DA CONTA:%.2f\\n\", valorCO)\n",
        "} else if TC == \"i\" {\n",
        "        valorCO := MC*0.1 + 500\n",
        "        fmt.Printf(\"CONTA: %d\\n\", CO)\n",
        "        fmt.Printf(\"VALOR DA CONTA: %.2f\\n\", valorCO)\n",
        "    } else if TC == \"r\" {\n",
        "        valorCO := MC*0.02 + 7\n",
        "        fmt.Printf(\"CONTA: %d\\n\", CO)\n",
        "        fmt.Printf(\"VALOR DA CONTA: %.2f\\n\", valorCO)\n",
        "       \n",
        "    }\n",
        "  \n",
        "}\n"
      ],
      "metadata": {
        "id": "geQfNBuVaW-D"
      }
    },
    {
      "cell_type": "markdown",
      "source": [
        "QUESTÃO 6\n",
        "\n",
        "package main\n",
        "\n",
        "import \"fmt\"\n",
        "\n",
        "func main() {\n",
        "    var N, NF uint32\n",
        "    fmt.Println(\"Número de temperaturas em Fahrenheit:\")\n",
        "    fmt.Scanf(\"%d\", &NF)\n",
        "    N = 0\n",
        "for N < NF {\n",
        "    var TF float64\n",
        "    fmt.Println(\"Digite a temperatura em Fahrenheit:\")\n",
        "    fmt.Scanf(\"%f\", &TF)\n",
        "    TC := (TF - 32.0) * (5.0 / 9.0)\n",
        "    fmt.Printf(\"%.1f FAHRENHEIT EQUIVALE A %.1f CELSIUS\\n\", TF, TC)\n",
        "    N++\n",
        "}\n",
        "    \n",
        "}\n"
      ],
      "metadata": {
        "id": "nQx-k2eC28Nu"
      }
    },
    {
      "cell_type": "markdown",
      "source": [
        "QUESTÃO 7\n",
        "\n",
        "package main\n",
        "\n",
        "import \"fmt\"\n",
        "\n",
        "func main() {\n",
        "    var TF, TC, MM, P float64\n",
        "    fmt.Println(\"Digite a temperatura em Fahrenheit:\")\n",
        "    fmt.Scanf(\"%f\", &TF)\n",
        "    fmt.Println(\"Quantidade de chuva em polegadas:\")\n",
        "    fmt.Scanf(\"%f\", &P)\n",
        "    TC = (TF - 32.0) * (5.0 / 9.0)\n",
        "    MM = P * 25.4\n",
        "    fmt.Printf(\"O VALOR EM CELSIUS É %.1f\\n\", TC)\n",
        "    fmt.Printf(\"A QUANTIDADE DE CHUVA É %.1f\\n\", MM)\n",
        "    \n",
        "    \n",
        "}"
      ],
      "metadata": {
        "id": "UlE80-5d3Cwr"
      }
    },
    {
      "cell_type": "markdown",
      "source": [
        "QUESTÃO 8\n",
        "\n",
        "package main\n",
        "\n",
        "import \"fmt\"\n",
        "\n",
        "func main() {\n",
        "    var R, A, MQ, C float64\n",
        "    fmt.Println(\"VALOR DO RAIO EM METROS:\")\n",
        "    fmt.Scanf(\"%f\", &R)\n",
        "    fmt.Println(\"VALOR DA ALTURA EM METROS:\")\n",
        "    fmt.Scanf(\"%f\", &A)\n",
        "    MQ = 2 * (3.14159 * R * R) + 3.14159 * 2 * R * A\n",
        "    C = MQ * 100\n",
        "    fmt.Printf(\"O CUSTO DA LATA É %.2f\\n\", C)\n",
        "    \n",
        "}\n"
      ],
      "metadata": {
        "id": "7s1xgcvA49mC"
      }
    },
    {
      "cell_type": "markdown",
      "source": [
        "QUESTÃO 9\n",
        "\n",
        "package main\n",
        "\n",
        "import \"fmt\"\n",
        "\n",
        "func main() {\n",
        "    var A, B, C, D float64\n",
        "    fmt.Println(\"VALOR DE A:\")\n",
        "    fmt.Scanf(\"%f\", &A)\n",
        "    fmt.Println(\"VALOR DE B:\")\n",
        "    fmt.Scanf(\"%f\", &B)\n",
        "    fmt.Println(\"VALOR DE C:\")\n",
        "    fmt.Scanf(\"%f\", &C)\n",
        "    D = B * B - 4 * A * C\n",
        "    fmt.Printf(\"O VALOR DO DELTA É = %2.f\", D)\n",
        "    \n",
        "}\n"
      ],
      "metadata": {
        "id": "9nboxCeNDrIL"
      }
    },
    {
      "cell_type": "markdown",
      "source": [
        "QUESTÃO 10\n",
        "\n",
        "package main\n",
        "\n",
        "import \"fmt\"\n",
        "\n",
        "func main() {\n",
        "    var A, B, C, D, DET float64\n",
        "    fmt.Println(\"VALOR DE A:\")\n",
        "    fmt.Scanf(\"%f\", &A)\n",
        "    fmt.Println(\"VALOR DE B:\")\n",
        "    fmt.Scanf(\"%f\", &B)\n",
        "    fmt.Println(\"VALOR DE C:\")\n",
        "    fmt.Scanf(\"%f\", &C)\n",
        "    fmt.Println(\"VALOR DE D:\")\n",
        "    fmt.Scanf(\"%f\", &D)\n",
        "    DET = (A * D) - (B * C)\n",
        "    fmt.Printf(\" O VALOR DO DETERMINANTE É= %f\\n\", DET)\n",
        "    \n",
        "}\n"
      ],
      "metadata": {
        "id": "eofxBTH-FBEJ"
      }
    },
    {
      "cell_type": "markdown",
      "source": [
        "QUESTÃO 11\n",
        "\n",
        "package main\n",
        "\n",
        "import \"fmt\"\n",
        "\n",
        "func main() {\n",
        "    var numero uint16\n",
        "    fmt.Println(\"Digite um número:\")\n",
        "    fmt.Scanf(\"%d\", &numero)\n",
        "    if numero%3 == 0 && numero%5 == 0 {\n",
        "        fmt.Println(\"O NÚMERO É DIVISÍVEL POR 3 E 5\")\n",
        "    } else {\n",
        "        fmt.Println(\"O NÚMERO NÃO É DIVISÍVEL POR 3 E 5\")\n",
        "    }\n",
        "}\n"
      ],
      "metadata": {
        "id": "1_LFbuQu9m_s"
      }
    },
    {
      "cell_type": "markdown",
      "source": [
        "QUESTÃO 12\n",
        "\n",
        "package main\n",
        "\n",
        "import \"fmt\"\n",
        "\n",
        "func main() {\n",
        "    var numero float64\n",
        "    fmt.Println(\"Digite um número de horas:\")\n",
        "    fmt.Scanf(\"%f\", &numero)\n",
        "    if numero >= 3 {\n",
        "       valor := 10 + (numero - 3) * 5\n",
        "       fmt.Printf(\"O valor a pagar é: %.2f\", valor)\n",
        "    } else {\n",
        "        fmt.Println(\"O valor a pagar é 10\")\n",
        "    }\n",
        "}"
      ],
      "metadata": {
        "id": "WtzHkHLWBgQF"
      }
    },
    {
      "cell_type": "markdown",
      "source": [
        "QUESTÃO 13\n",
        "\n",
        "package main\n",
        "\n",
        "import \"fmt\"\n",
        "\n",
        "func main() {\n",
        "    var N float64\n",
        "    var C string\n",
        "\n",
        "    fmt.Println(\"Digite a nota:\")\n",
        "    fmt.Scanf(\"%f\", &N)\n",
        "\n",
        "    if N >= 9.0 && N <= 10.0 {\n",
        "        C = \"A\"\n",
        "        fmt.Println(\"NOTA=\", N, \"CONCEITO=\", C)\n",
        "    } else {\n",
        "        if N >= 7.5 && N < 9.0 {\n",
        "            C = \"B\"\n",
        "            fmt.Println(\"NOTA=\", N, \"CONCEITO=\", C)\n",
        "        } else {\n",
        "            if N >= 6.0 && N < 7.5 {\n",
        "                C = \"C\"\n",
        "                fmt.Println(\"NOTA=\", N, \"CONCEITO=\", C)\n",
        "            } else {\n",
        "                if N >= 0.0 && N < 6.0 {\n",
        "                    C = \"D\"\n",
        "                    fmt.Println(\"NOTA=\", N, \"CONCEITO=\", C)\n",
        "                }\n",
        "            }\n",
        "        }\n",
        "    }\n",
        "}\n"
      ],
      "metadata": {
        "id": "WWEM1WuEDwuV"
      }
    },
    {
      "cell_type": "markdown",
      "source": [
        "QUESTÃO 14\n",
        "\n",
        "package main\n",
        "\n",
        "import( \"fmt\"\n",
        "       \"math\"\n",
        ")\n",
        "\n",
        "func main() {\n",
        "    var H, AH, V, Ab, Raizdetres float64\n",
        "    fmt.Println(\"Digite a altura da pirâmide :\")\n",
        "    fmt.Scanf(\"%f\", &H)\n",
        "    fmt.Println(\"Digite a aresta hexagonal :\")\n",
        "    fmt.Scanf(\"%f\", &AH)\n",
        "    Raizdetres = math.Sqrt(3)\n",
        "    Ab = 1.5 * AH * AH * Raizdetres\n",
        "    V = 1.00 / 3.00 * Ab * H\n",
        "    fmt.Printf(\"O VOLUME DA PRIRÂMIDE É = %.2f METROS CÚBICOS\", V)\n",
        "\n",
        "   \n",
        "}\n"
      ],
      "metadata": {
        "id": "6eTreebQGToh"
      }
    },
    {
      "cell_type": "markdown",
      "source": [
        "QUESTÃO 15\n",
        "\n",
        "package main\n",
        "\n",
        "import (\n",
        "\t\"fmt\"\n",
        "\t\"math\"\n",
        ")\n",
        "\n",
        "func main() {\n",
        "\tvar N float64\n",
        "\tfmt.Println(\"Digite um número:\")\n",
        "\tfmt.Scanln(&N)\n",
        "\tfor N > 5 && N < 2000 && N == N+2 {\n",
        "\t\tquadrado := math.Pow(N, 2)\n",
        "\t\tfmt.Printf(\"%.f^2 = %.2f\\n\", N, quadrado)\n",
        "\t}\n",
        "}"
      ],
      "metadata": {
        "id": "A2lI29lC_ahV"
      }
    },
    {
      "cell_type": "markdown",
      "source": [
        "QUESTÃO 16\n",
        "\n",
        "package main\n",
        "\n",
        "import \"fmt\"\n",
        "\n",
        "func main() {\n",
        "    var S, R float64\n",
        "    fmt.Println(\"DIGITE O VALOR DO SALÁRIO:\")\n",
        "    fmt.Scanln(&S)\n",
        "    if S <= 300 {\n",
        "        R = S * 1.5\n",
        "    } else {\n",
        "        if S > 300 {\n",
        "            R = S * 1.3\n",
        "        }\n",
        "    }\n",
        "\n",
        "    fmt.Println(\"SALÁRIO COM REAJUSTE=\", R)\n",
        "}"
      ],
      "metadata": {
        "id": "h4UEwAqZKV73"
      }
    },
    {
      "cell_type": "markdown",
      "source": [
        "QUESTÃO 17\n",
        "\n",
        "package main\n",
        "\n",
        "import \"fmt\"\n",
        "\n",
        "func main() {\n",
        "    var N1, N2 int\n",
        "    fmt.Println(\"DIGITE UM NÚMERO:\")\n",
        "    fmt.Scanln(&N1)\n",
        "    fmt.Println(\"DIGITE OUTRO NÚMERO:\")\n",
        "    fmt.Scanln(&N2)\n",
        "    if N1%2 == 0 {\n",
        "       fmt.Println(\"SEQUÊNCIA DE NÚMEROS PARES:\")\n",
        "       for A := 0; A < N2; A++ {\n",
        "           fmt.Print(N1 + 2*A)\n",
        "           if A < N2-1{\n",
        "               fmt.Print(\" \")\n",
        "           }\n",
        "       }\n",
        "        fmt.Println()\n",
        "    } else {\n",
        "        fmt.Println(\"O PRIMEIRO NUMERO NAO E PAR\")\n",
        "    }\n",
        "}"
      ],
      "metadata": {
        "id": "mp8OSpbsK8PK"
      }
    },
    {
      "cell_type": "markdown",
      "source": [
        "QUESTÃO 18\n",
        "\n",
        "package main\n",
        "\n",
        "import \"fmt\"\n",
        "\n",
        "func main() {\n",
        "    var VI, R, N int\n",
        "    fmt.Println(\"Digite o valor inicial,a razão e quantos elementos deve ter a P.A separados por espaço:\")\n",
        "    fmt.Scanln(&VI, &R, &N)\n",
        "    // usarei outra propriedade de P.As para não usar a fórmula tradicional de soma dos termos,calculando o último termo somando ao primeiro e multiplicando pela metade do número de elementos desejados\n",
        "    UT := VI + (N-1)*R\n",
        "\tS := (VI + UT) * N / 2\n",
        "    fmt.Printf(\"A soma dos elementos é= %d\\n\",S)\n",
        "}"
      ],
      "metadata": {
        "id": "EttnysFqgGpf"
      }
    },
    {
      "cell_type": "markdown",
      "source": [
        "QUESTÃO 19\n",
        "\n",
        "package main\n",
        "\n",
        "import \"fmt\"\n",
        "\n",
        "func main() {\n",
        "var N float64\n",
        "    fmt.Println(\"Digite um número inteiro e positivo:\")\n",
        "    fmt.Scanln(&N)\n",
        "\n",
        "    if N > 1 {\n",
        "       S := 0.0\n",
        "\t\tfor k := 1.0; k <= N; k++ {\n",
        "\t\t\tS += 1.0 / float64(k)\n",
        "\t\t}\n",
        "\t\tfmt.Printf(\"Soma = %.6f\\n\", S)\n",
        "    } else {\n",
        "        fmt.Println(\"NÚMERO INVÁLIDO!\")\n",
        "    }\n",
        "}"
      ],
      "metadata": {
        "id": "5XREQ_axBUZ-"
      }
    },
    {
      "cell_type": "markdown",
      "source": [
        "QUESTÃO 20\n",
        "\n",
        "package main\n",
        "\n",
        "import \"fmt\"\n",
        "\n",
        "func main() {\n",
        "    var H, M, S, tempoems int\n",
        "    fmt.Println(\"Digite o tempo em horas, minutos e segundos separados por espaço:\")\n",
        "    fmt.Scanln(&H, &M, &S)\n",
        "    tempoems = H*3600 + M*60 + S\n",
        "    fmt.Println(\"O TEMPO EM SEGUNDOS É =\", tempoems)\n",
        "}"
      ],
      "metadata": {
        "id": "RrM5IorWBYSu"
      }
    }
  ]
}