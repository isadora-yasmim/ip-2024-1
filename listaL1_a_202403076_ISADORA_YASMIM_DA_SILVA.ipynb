{
  "nbformat": 4,
  "nbformat_minor": 0,
  "metadata": {
    "colab": {
      "provenance": [],
      "authorship_tag": "ABX9TyM8/4Z8Wu7P5RemtfAYZh5B",
      "include_colab_link": true
    },
    "kernelspec": {
      "name": "python3",
      "display_name": "Python 3"
    },
    "language_info": {
      "name": "python"
    }
  },
  "cells": [
    {
      "cell_type": "markdown",
      "metadata": {
        "id": "view-in-github",
        "colab_type": "text"
      },
      "source": [
        "<a href=\"https://colab.research.google.com/github/isadora-yasmim/ip-2024-1/blob/main/listaL1_a_202403076_ISADORA_YASMIM_DA_SILVA.ipynb\" target=\"_parent\"><img src=\"https://colab.research.google.com/assets/colab-badge.svg\" alt=\"Open In Colab\"/></a>"
      ]
    },
    {
      "cell_type": "markdown",
      "source": [
        "Questão 1 APROVADO OU REPROVADO\n",
        "\n",
        "Leia(N1 N2 N3)\n",
        "media<-(N1+N2+N3)/3\n",
        "se(media>=6) entao\n",
        " Escreva(media)\n",
        " Escreva(\"APROVADO\")\n",
        "senao\n",
        " Escreva(media)\n",
        " Escreva(\"REPROVADO\")\n",
        "Fimse\n"
      ],
      "metadata": {
        "id": "lyBp7F_sI8n7"
      }
    },
    {
      "cell_type": "markdown",
      "source": [
        "Questão 2 ARRECADAÇÃO DE JOGOS\n",
        "\n",
        "Leia(ndejogos)\n",
        "N<-0\n",
        "Enquanto(N<ndejogos) faça\n",
        " Leia(totalingressos,percentagempopular,percentagemgeral,percentagemarquibancada,percentagemcadeira)\n",
        " RendaTot<-(totalingressos*percentagempopular*1)+(totalingressos*percentagemgeral*5)+(totalingressos*percentagemarquibanca*10)+(totalingressos*percentagemcadeira*20)\n",
        " Escreva(\"A renda do jogo N. x E = \" RendaTot:8:2)\n",
        " N<-N+1\n",
        "FimEnquanto"
      ],
      "metadata": {
        "id": "4ULUCXFQMwHl"
      }
    },
    {
      "cell_type": "markdown",
      "source": [
        "Questão 3 COMPOSIÇÃO INTEIRA\n",
        "\n",
        "Leia(N1)\n",
        "Leia(N2)\n",
        "Leia(N3)\n",
        "se (N2>=0)e (N3>=0) e (N1>=1) e (N1<=9) e (N2<=9) e  (N3<=9) entao\n",
        "  composiçao<-N1*100+N2*10+N3\n",
        "  quadrado<-composiçao^2\n",
        "  Escreval(composiçao \", \",quadrado )\n",
        "senao\n",
        " Escreval(\"DÍGITO INVÁLIDO\")\n",
        "fimse"
      ],
      "metadata": {
        "id": "04dHwpgkU9C-"
      }
    },
    {
      "cell_type": "markdown",
      "source": [
        "Questão 4 CONSUMO DE ENERGIA\n",
        "\n",
        "leia(salariominimo)\n",
        "leia(kwgastos)\n",
        "custokW<-(7/1000)*salariominimo\n",
        "comsumo<-kW*kwgastos\n",
        "consumoCdesconto<-(Kw*Kwgastos)*0.9\n",
        "Escreval(\"Custo por KW:R$\",custoKW:3:2)\n",
        "Escreval(\"Custo do consumo:R$\",consumo:3:2)\n",
        "Escreval(\"Custo com desconto:R$\",custoCdesconto:3:2)"
      ],
      "metadata": {
        "id": "pBNG8ZuloIw8"
      }
    },
    {
      "cell_type": "markdown",
      "source": [
        "Questão 5 CONTA DE ÁGUA\n",
        "\n",
        "Leia(conta)\n",
        "leia(consumom3)\n",
        "leia(consumidor)\n",
        "Se (consumidor=R) entao\n",
        " valordaconta<-(consumom3*0.05)+5\n",
        " Escreval(\"CONTA=\",conta:5:2)\n",
        " Escreval(\"VALOR DA CONTA=\",valordaconta:5:2)\n",
        "senao\n",
        " Se (consumidor=C) entao\n",
        " valordaconta<-500+(consumom3-80)*0.25\n",
        "  Escreval(\"CONTA=\",conta:5:2)\n",
        "  Escreval(\"VALOR DA CONTA=\",valordaconta:5:2)\n",
        " senao\n",
        "  Se(consumidor=I)\n",
        "  valordaconta<-800+(consumom3-100)*0.04\n",
        "  Escreval(\"CONTA=\",conta:5:2)\n",
        "  iEscreval(\"VALOR DA CONTA=\",valordaconta:5:2)\n",
        "\n",
        "  FimSe\n",
        " FimSe\n",
        "FimSe"
      ],
      "metadata": {
        "id": "0ZVLn1Pnruol"
      }
    },
    {
      "cell_type": "markdown",
      "source": [
        "Questão 6 CONVERSÃO DE TEMPERATURA\n",
        "\n",
        "Leia(ndetemperaturasF)\n",
        "N<-0\n",
        "Enquanto (N<ndetemperaturasF) faça\n",
        " Leia(F)\n",
        " C<-(F-32)*(5/9)\n",
        " Escreval(F:4:2,\"FAHRENHEIT EQUIVALE A \",C:4:2,\" CELSIUS\")\n",
        " N<-N+1\n",
        "FimEnquanto\n"
      ],
      "metadata": {
        "id": "vPrABUwtwSqQ"
      }
    },
    {
      "cell_type": "markdown",
      "source": [
        "Questão 7 CONVERSÕES PARA O SISTEMA MÉTRICO\n",
        "\n",
        " Leia(Fahrenheit)\n",
        " Leia(Polegada)\n",
        " Celsius<-(Fahrenheit-32)*(5/9)\n",
        " Milimetros<-Polegada*25.4\n",
        " Escreval(\"VALOR EM CELSIUS=\",Celsius:4:2)\n",
        " Escreval(\"A QUANTIDADE DE CHUVA É=\",Milimetros:4:2)\n",
        "\n"
      ],
      "metadata": {
        "id": "H1CFaCi7yIPX"
      }
    },
    {
      "cell_type": "markdown",
      "source": [
        "Questão 8 CUSTO DA LATA DE CERVEJA\n",
        "\n",
        "Leia(RAIOemM)\n",
        "Leia(ALTURAemM)\n",
        "Mquad<-2*(3.14159*RAIOemM^2)+3.14159*2*RAIOemM*ALTURAemM\n",
        "CustoLata<-Mquad*100\n",
        "Escreval(\"O VALOR DO CUSTO É=\",CustoLata:5:2)"
      ],
      "metadata": {
        "id": "INACzrQcNZMP"
      }
    },
    {
      "cell_type": "markdown",
      "source": [
        "Questão 9 CÁLCULO DO DELTA NA EQUAÇÃO DE BÁSKARA\n",
        "\n",
        "Leia(A)\n",
        "Leia(B)\n",
        "Leia(C)\n",
        "Delta<-B^2-4A*c\n",
        "Imprime(\"O VALOR DE DELTA É=\")\n",
        "printf(\"%.2f\",Delta)"
      ],
      "metadata": {
        "id": "Rvy31KaJPfu4"
      }
    },
    {
      "cell_type": "markdown",
      "source": [
        "Questão 10 CÁLCULO DO DETERMINANTE DE UMA MATRIZ QUADRADA DE DUAS DIMENSÕES\n",
        "\n",
        "Leia(a)\n",
        "Leia(b)\n",
        "Leia(c)\n",
        "Leia(d)\n",
        "detM<-a*d-b*c\n",
        "Escreval(\" O VALOR DO DETERMINANTE É=\",detM:4:2)\n",
        "\n"
      ],
      "metadata": {
        "id": "PIEoNx6FRKVj"
      }
    },
    {
      "cell_type": "markdown",
      "source": [
        "Questão 11 DIVISÍVEL POR 3 E 5\n",
        "\n",
        "leia(N)\n",
        "Se(N%3=0) e (N%5=0) entao\n",
        " Escreval(\"O NÚMERO É DIVISÍVEL\")\n",
        "senao\n",
        " Escreval(\"O NÚMERO NÃO É DIVISÍVEL\")\n",
        "Fimse"
      ],
      "metadata": {
        "id": "oN80-mqrghEu"
      }
    },
    {
      "cell_type": "markdown",
      "source": [
        "Questão 12 LOCADORA DE CHARRETES\n",
        "\n",
        "Leia(H)\n",
        "Se (N>=3)\n",
        " valor<-10+(N-3)*5\n",
        " Escreval(\"O VALOR A PAGAR É=\",valor)\n",
        "senao\n",
        " Escreval(\"O VALOR A PAGAR É 10\")\n",
        "Fimse\n",
        "\n"
      ],
      "metadata": {
        "id": "J5gZCeSki_RX"
      }
    },
    {
      "cell_type": "markdown",
      "source": [
        "Questão 13 CONVERSÃO DE NOTA EM CONCEITO\n",
        "\n",
        "Leia(N)\n",
        "Se(N>=9.0) e (N<=10.0) entao\n",
        " C<-A\n",
        " Escreval(\"NOTA=\",N,\"CONCEITO=\",C)\n",
        "senao\n",
        " Se(N>=7.5) e (N<9.0) entao\n",
        "  C<-B\n",
        "  Escreval(\"NOTA=\",N ,\"CONCEITO=\",C)\n",
        " senao\n",
        "  Se(N>=6.0) e (N<7.5) entao\n",
        "   C<-C\n",
        "   Escreval(\"NOTA=\",N,\"CONCEITO=\",C)\n",
        "  senao\n",
        "   Se(N>=0.0) e (N<6.0) entao\n",
        "    C<-D\n",
        "    Escreval(\"NOTA=\",N ,\"CONCEITO=\",C)\n",
        "   fimse\n",
        "  fimse\n",
        " Fimse\n",
        "fimse\n"
      ],
      "metadata": {
        "id": "5szYiOnWo8cO"
      }
    },
    {
      "cell_type": "markdown",
      "source": [
        "Questão 14 VOLUME DA PIRÂMIDE DE BASE HEXAGONAL\n",
        "Leia(hp,ah)\n",
        "Ab<-(3*ah^2*1,732)/2\n",
        "V<-1/3*Ab*hp\n",
        "Escreval(\"O VOLUME DA PIRÂMIDE É=\",V,\" METROS CÚBICOS\")\n",
        "\n"
      ],
      "metadata": {
        "id": "zyukhGm5rVPd"
      }
    },
    {
      "cell_type": "markdown",
      "source": [
        "Questão 15 QUADRADO DE PARES\n",
        "leia(N)\n",
        "Para N<-5 ate 2000 passo 2 faça\n",
        " Q<-N^2\n",
        " Escreval(N\"^2=\",Q)\n",
        "Fimpara"
      ],
      "metadata": {
        "id": "BnsjhkCeHCHf"
      }
    },
    {
      "cell_type": "markdown",
      "source": [
        "Questão 16 REAJUSTE SALARIAL\n",
        "Leia(S)\n",
        "Se(S<=300) entao\n",
        " R<-S*1.5\n",
        "senao\n",
        " se(S>300) entao\n",
        " R<-S*1.3\n",
        " fimse\n",
        "fimse\n",
        "Escreval(\"SALÁRIO COM REAJUSTE=\",R)\n",
        "\n",
        "\n",
        "\n"
      ],
      "metadata": {
        "id": "PfY7Z26SJdgx"
      }
    },
    {
      "cell_type": "markdown",
      "source": [
        "Questão 17 SÉRIE DE PARES\n",
        "\n",
        "leia(N1,N2)\n",
        "Se(N1%2=0) entao\n",
        " A<-N2*2\n",
        " para P<-N1 ate A passo 2 faça\n",
        " escreval(P)\n",
        " fimpara\n",
        "senao\n",
        " escreval(\"O PRIMEIRO NÚNERO NÃO É PAR\")\n",
        "fimse"
      ],
      "metadata": {
        "id": "xgtsLHKLW6FO"
      }
    },
    {
      "cell_type": "markdown",
      "source": [
        "Questão 18 SOMA DE PEOGRESSÃO ARITMÉTICA\n",
        "\n",
        "leia(VI ,R ,N)\n",
        "S<-VI+R*(N-1)\n",
        "Escreval(S)"
      ],
      "metadata": {
        "id": "2KcBE4oNY6NW"
      }
    },
    {
      "cell_type": "markdown",
      "source": [
        "Questão 19 SOMATÓRIO SIMPLES\n",
        "\n",
        "Leia(n)\n",
        "Se (N>1) entao\n",
        " S<-1/k\n",
        " escreval(S:8:6)\n",
        "senao\n",
        " escreval(\"NÚMERO INVÁLIDO!)\n",
        "Fimse"
      ],
      "metadata": {
        "id": "IJb6wiCMnamO"
      }
    },
    {
      "cell_type": "markdown",
      "source": [
        "Questão 20 TEMPO EM SEGUNDOS\n",
        "\n",
        "Leia(h)\n",
        "Leia(m)\n",
        "leia(s)\n",
        "tempoems<-h*3600+m*60+s\n",
        "Escreval(\"O TEMPO EM SEGUNDOS É=\",tempoems)"
      ],
      "metadata": {
        "id": "uo05Fv6aocPp"
      }
    }
  ]
}